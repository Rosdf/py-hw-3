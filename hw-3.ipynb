{
 "cells": [
  {
   "cell_type": "code",
   "execution_count": null,
   "metadata": {},
   "outputs": [],
   "source": [
    "#задание 1\n",
    "given_word = \"tripads\"\n",
    "l = len(given_word)\n",
    "if l % 2 == 0:\n",
    "    print(given_word[int(l / 2 - 1):int(l / 2 + 1)])\n",
    "else:\n",
    "    print(given_word[int((l - 1) / 2)])"
   ]
  },
  {
   "cell_type": "code",
   "execution_count": 31,
   "metadata": {},
   "outputs": [
    {
     "name": "stdout",
     "output_type": "stream",
     "text": [
      "Введите число:\n",
      "4\n",
      "Введите число:\n",
      "2\n",
      "Введите число:\n",
      "0\n",
      "6.0\n"
     ]
    }
   ],
   "source": [
    "#задание 2\n",
    "def IsNumber(str):\n",
    "    numbers = (\"0\", \"1\", \"2\", \"3\", \"4\", \"5\", \"6\", \"7\", \"8\", \"9\")\n",
    "    l = len(str)\n",
    "    dot_occured = 0\n",
    "    for i in range(l):\n",
    "        if str[i] in numbers:\n",
    "            continue\n",
    "        elif str[i] == \".\" and i != 0 and dot_occured == 0:\n",
    "            dot_occured = 1\n",
    "        else:\n",
    "            return 0\n",
    "    return 1\n",
    "        \n",
    "\n",
    "summ = 0\n",
    "inputt = \"1\"\n",
    "while inputt != \"0\":\n",
    "    print(\"Введите число:\")\n",
    "    inputt = input()\n",
    "    if IsNumber(inputt):\n",
    "        summ += float(inputt)\n",
    "    else:\n",
    "        print(\"Это не число\")\n",
    "print(summ)"
   ]
  },
  {
   "cell_type": "code",
   "execution_count": null,
   "metadata": {},
   "outputs": [],
   "source": [
    "#задание 3\n",
    "Boys = [\"Peter\", \"Bob\", \"Oleg\"]\n",
    "Girls = [\"Ann\", \"Jane\", \"Kate\"]\n",
    "n1 = len(Boys)\n",
    "n2 = len(Girls)\n",
    "if n1 == n2:\n",
    "    Boys = sorted(Boys)\n",
    "    Girls = sorted(Girls)\n",
    "    print(\"Идеальные пары:\")\n",
    "    for i in range(n1):\n",
    "        print(f\"{Boys[i]} и {Girls[i]}\")\n",
    "else:\n",
    "    print(\"Внимание, кто-то может остаться без пары!\")"
   ]
  },
  {
   "cell_type": "code",
   "execution_count": 9,
   "metadata": {},
   "outputs": [
    {
     "name": "stdout",
     "output_type": "stream",
     "text": [
      "Thailand 23.9 C\n",
      "Germany 13.8 C\n",
      "Russia 3.7 C\n",
      "Poland 12.1 C\n"
     ]
    }
   ],
   "source": [
    "#задание 4\n",
    "countries_temperature = [\n",
    "[\"Thailand\", [75.2, 77, 78.8, 73.4, 68, 75.2, 77]],\n",
    "[\"Germany\", [57.2, 55.4, 59, 59, 53.6]],\n",
    "[\"Russia\", [35.6, 37.4, 39.2, 41, 42.8, 39.2, 35.6]],\n",
    "[\"Poland\", [50, 50, 53.6, 57.2, 55.4, 55.4, 55]]\n",
    "]\n",
    "l0 = len(countries_temperature)\n",
    "for i in range(l0):\n",
    "    l1 = len(countries_temperature[i][1])\n",
    "    for j in range(l1):\n",
    "        countries_temperature[i][1][j] -= 32\n",
    "        countries_temperature[i][1][j] *= 5 / 9\n",
    "    print(countries_temperature[i][0], round(sum(countries_temperature[i][1]) / l1, 1), \"C\")"
   ]
  },
  {
   "cell_type": "code",
   "execution_count": 26,
   "metadata": {},
   "outputs": [
    {
     "name": "stdout",
     "output_type": "stream",
     "text": [
      "Среднее количество просмотров на уникального пользователя: 595.33\n"
     ]
    }
   ],
   "source": [
    "#задание 5\n",
    "stream = [\n",
    "\"2018-01-01,user1000,1500\",\n",
    "\"2018-01-07,user99,205\",\n",
    "\"2018-03-29,user1001,81\"\n",
    "]\n",
    "l = len(stream)\n",
    "summ = 0\n",
    "users = []\n",
    "unique = 0\n",
    "for i in range(l):\n",
    "    stream[i] = stream[i].split(\",\")\n",
    "    summ += int(stream[i][2])\n",
    "    if int(stream[i][1][4:]) not in users:\n",
    "        unique += 1\n",
    "        users.append(int(stream[i][1][4:]))\n",
    "print(\"Среднее количество просмотров на уникального пользователя:\", round(summ / unique, 2))"
   ]
  },
  {
   "cell_type": "code",
   "execution_count": 48,
   "metadata": {},
   "outputs": [
    {
     "name": "stdout",
     "output_type": "stream",
     "text": [
      "Введите числа:\n",
      "1 2 3 2 4 5 6 8 7 4 5.2 4 5 6 99\n",
      "1.0 1\n",
      "2.0 2\n",
      "3.0 1\n",
      "4.0 3\n",
      "5.0 2\n",
      "6.0 2\n",
      "8.0 1\n",
      "7.0 1\n",
      "5.2 1\n",
      "99.0 1\n"
     ]
    }
   ],
   "source": [
    "#задание 6\n",
    "print(\"Введите числа:\")\n",
    "input_str = input()\n",
    "input_list = input_str.split(\" \")\n",
    "list_of_numbers = []\n",
    "list_of_encounters = []\n",
    "l = len(input_list)\n",
    "error = 0\n",
    "for i in range(l):\n",
    "    if input_list[i] == \"\":\n",
    "        input_list.remove(\"\")\n",
    "    elif IsNumber(input_list[i]): #функция из задачи 2\n",
    "        if float(input_list[i]) in list_of_numbers:\n",
    "            list_of_encounters[list_of_numbers.index(float(input_list[i]))] += 1\n",
    "        else:\n",
    "            list_of_numbers.append(float(input_list[i]))\n",
    "            list_of_encounters.append(1)\n",
    "    else:\n",
    "        print(\"Введены не только числа\")\n",
    "        error = 1\n",
    "        break\n",
    "l = len(list_of_numbers)\n",
    "if error == 0:\n",
    "    for i in range(l):\n",
    "        print(list_of_numbers[i], list_of_encounters[i])\n",
    "            \n",
    "        "
   ]
  }
 ],
 "metadata": {
  "kernelspec": {
   "display_name": "Python 3",
   "language": "python",
   "name": "python3"
  },
  "language_info": {
   "codemirror_mode": {
    "name": "ipython",
    "version": 3
   },
   "file_extension": ".py",
   "mimetype": "text/x-python",
   "name": "python",
   "nbconvert_exporter": "python",
   "pygments_lexer": "ipython3",
   "version": "3.8.5"
  }
 },
 "nbformat": 4,
 "nbformat_minor": 4
}
